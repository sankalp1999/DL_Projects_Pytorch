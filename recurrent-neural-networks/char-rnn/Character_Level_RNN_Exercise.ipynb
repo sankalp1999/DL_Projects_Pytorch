{
 "cells": [
  {
   "cell_type": "markdown",
   "metadata": {},
   "source": [
    "# Character-Level LSTM in PyTorch\n",
    "\n",
    "In this notebook, I'll construct a character-level LSTM with PyTorch. The network will train character by character on some text, then generate new text character by character. As an example, I will train on Anna Karenina. **This model will be able to generate new text based on the text from the book!**\n",
    "\n",
    "This network is based off of Andrej Karpathy's [post on RNNs](http://karpathy.github.io/2015/05/21/rnn-effectiveness/) and [implementation in Torch](https://github.com/karpathy/char-rnn). Below is the general architecture of the character-wise RNN.\n",
    "\n",
    "<img src=\"assets/charseq.jpeg\" width=\"500\">"
   ]
  },
  {
   "cell_type": "markdown",
   "metadata": {},
   "source": [
    "First let's load in our required resources for data loading and model creation."
   ]
  },
  {
   "cell_type": "code",
   "execution_count": 1,
   "metadata": {},
   "outputs": [],
   "source": [
    "import numpy as np\n",
    "import torch\n",
    "from torch import nn\n",
    "import torch.nn.functional as F"
   ]
  },
  {
   "cell_type": "markdown",
   "metadata": {},
   "source": [
    "## Load in Data\n",
    "\n",
    "Then, we'll load the Anna Karenina text file and convert it into integers for our network to use. "
   ]
  },
  {
   "cell_type": "code",
   "execution_count": 2,
   "metadata": {},
   "outputs": [],
   "source": [
    "# open text file and read in data as `text`\n",
    "with open('data/anna.txt', 'r') as f:\n",
    "    text = f.read()"
   ]
  },
  {
   "cell_type": "markdown",
   "metadata": {},
   "source": [
    "Let's check out the first 100 characters, make sure everything is peachy. According to the [American Book Review](http://americanbookreview.org/100bestlines.asp), this is the 6th best first line of a book ever."
   ]
  },
  {
   "cell_type": "code",
   "execution_count": 3,
   "metadata": {},
   "outputs": [
    {
     "data": {
      "text/plain": [
       "\"Chapter 1\\n\\n\\nHappy families are all alike; every unhappy family is unhappy in its own\\nway.\\n\\nEverything was in confusion in the Oblonskys' house. The wife had\\ndiscovered that the husband was carrying on an intrigue with a French\\ngirl, who had been a governess in their family, and she had announced to\\nher husband that she could not go on living in the same house with him.\\nThis position of affairs had now lasted three days, and not only the\\nhusband and wife themselves, but all the members of their family and\\nhousehold, were painfully conscious of it. Every person in the house\\nfelt that there was no sense in their living together, and that the\\nstray people brought together by chance in any inn had more in common\\nwith one another than they, the members of the family and household of\\nthe Oblonskys. The wife did not leave her own room, the husband had not\\nbeen at home for three days. The children ran wild all over the house;\\nthe English governess quarreled with the housekeeper, and wrote to a\\n\""
      ]
     },
     "execution_count": 3,
     "metadata": {},
     "output_type": "execute_result"
    }
   ],
   "source": [
    "text[:1000]"
   ]
  },
  {
   "cell_type": "markdown",
   "metadata": {},
   "source": [
    "### Tokenization\n",
    "\n",
    "In the cells, below, I'm creating a couple **dictionaries** to convert the characters to and from integers. Encoding the characters as integers makes it easier to use as input in the network."
   ]
  },
  {
   "cell_type": "code",
   "execution_count": 4,
   "metadata": {},
   "outputs": [],
   "source": [
    "# encode the text and map each character to an integer and vice versa\n",
    "\n",
    "# we create two dictionaries:\n",
    "# 1. int2char, which maps integers to characters\n",
    "# 2. char2int, which maps characters to unique integers\n",
    "chars = tuple(set(text)) # this is a set of all unique characters\n",
    "# also referred to as vocabulary\n",
    "int2char = dict(enumerate(chars))\n",
    "#created a dict that maps the actual character to a unique integer\n",
    "\n",
    "# reverse dict  keys- char, values unique integers \n",
    "char2int = {ch: ii for ii, ch in int2char.items()}\n",
    "\n",
    "# encode the text\n",
    "encoded = np.array([char2int[ch] for ch in text])"
   ]
  },
  {
   "cell_type": "markdown",
   "metadata": {},
   "source": [
    "And we can see those same characters from above, encoded as integers."
   ]
  },
  {
   "cell_type": "code",
   "execution_count": 5,
   "metadata": {},
   "outputs": [
    {
     "data": {
      "text/plain": [
       "array([43, 55, 28, 36, 35, 60, 47, 56, 37, 49, 49, 49, 16, 28, 36, 36,  0,\n",
       "       56, 25, 28, 38, 12, 75, 12, 60, 41, 56, 28, 47, 60, 56, 28, 75, 75,\n",
       "       56, 28, 75, 12, 62, 60, 10, 56, 60, 67, 60, 47,  0, 56, 19, 22, 55,\n",
       "       28, 36, 36,  0, 56, 25, 28, 38, 12, 75,  0, 56, 12, 41, 56, 19, 22,\n",
       "       55, 28, 36, 36,  0, 56, 12, 22, 56, 12, 35, 41, 56, 64, 82, 22, 49,\n",
       "       82, 28,  0,  9, 49, 49, 50, 67, 60, 47,  0, 35, 55, 12, 22])"
      ]
     },
     "execution_count": 5,
     "metadata": {},
     "output_type": "execute_result"
    }
   ],
   "source": [
    "encoded[:100]"
   ]
  },
  {
   "cell_type": "markdown",
   "metadata": {},
   "source": [
    "## Pre-processing the data\n",
    "\n",
    "As you can see in our char-RNN image above, our LSTM expects an input that is **one-hot encoded** meaning that each character is converted into an integer (via our created dictionary) and *then* converted into a column vector where only it's corresponding integer index will have the value of 1 and the rest of the vector will be filled with 0's. Since we're one-hot encoding the data, let's make a function to do that!\n"
   ]
  },
  {
   "cell_type": "code",
   "execution_count": 6,
   "metadata": {},
   "outputs": [],
   "source": [
    "def one_hot_encode(arr, n_labels):\n",
    "    \n",
    "    # Initialize the the encoded array\n",
    "    one_hot = np.zeros((arr.size, n_labels), dtype=np.float32)\n",
    "    \n",
    "    # Fill the appropriate elements with ones\n",
    "    one_hot[np.arange(one_hot.shape[0]), arr.flatten()] = 1.\n",
    "    \n",
    "    # Finally reshape it to get back to the original array\n",
    "    one_hot = one_hot.reshape((*arr.shape, n_labels))\n",
    "    \n",
    "    return one_hot"
   ]
  },
  {
   "cell_type": "code",
   "execution_count": 7,
   "metadata": {},
   "outputs": [
    {
     "name": "stdout",
     "output_type": "stream",
     "text": [
      "[[[0. 0. 0. 1. 0. 0. 0. 0.]\n",
      "  [0. 0. 0. 0. 0. 1. 0. 0.]\n",
      "  [0. 1. 0. 0. 0. 0. 0. 0.]]]\n"
     ]
    }
   ],
   "source": [
    "# check that the function works as expected\n",
    "test_seq = np.array([[3, 5, 1]])\n",
    "one_hot = one_hot_encode(test_seq, 8)\n",
    "\n",
    "print(one_hot)"
   ]
  },
  {
   "cell_type": "markdown",
   "metadata": {},
   "source": [
    "## Making training mini-batches\n",
    "\n",
    "\n",
    "To train on this data, we also want to create mini-batches for training. Remember that we want our batches to be multiple sequences of some desired number of sequence steps. Considering a simple example, our batches would look like this:\n",
    "\n",
    "<img src=\"assets/sequence_batching@1x.png\" width=500px>\n",
    "\n",
    "\n",
    "<br>\n",
    "\n",
    "In this example, we'll take the encoded characters (passed in as the `arr` parameter) and split them into multiple sequences, given by `batch_size`. Each of our sequences will be `seq_length` long.\n",
    "\n",
    "### Creating Batches\n",
    "\n",
    "**1. The first thing we need to do is discard some of the text so we only have completely full mini-batches. **\n",
    "\n",
    "Each batch contains $N \\times M$ characters, where $N$ is the batch size (the number of sequences in a batch) and $M$ is the seq_length or number of time steps in a sequence. Then, to get the total number of batches, $K$, that we can make from the array `arr`, you divide the length of `arr` by the number of characters per batch. Once you know the number of batches, you can get the total number of characters to keep from `arr`, $N * M * K$.\n",
    "\n",
    "**2. After that, we need to split `arr` into $N$ batches. ** \n",
    "\n",
    "You can do this using `arr.reshape(size)` where `size` is a tuple containing the dimensions sizes of the reshaped array. We know we want $N$ sequences in a batch, so let's make that the size of the first dimension. For the second dimension, you can use `-1` as a placeholder in the size, it'll fill up the array with the appropriate data for you. After this, you should have an array that is $N \\times (M * K)$.\n",
    "\n",
    "**3. Now that we have this array, we can iterate through it to get our mini-batches. **\n",
    "\n",
    "The idea is each batch is a $N \\times M$ window on the $N \\times (M * K)$ array. For each subsequent batch, the window moves over by `seq_length`. We also want to create both the input and target arrays. Remember that the targets are just the inputs shifted over by one character. The way I like to do this window is use `range` to take steps of size `n_steps` from $0$ to `arr.shape[1]`, the total number of tokens in each sequence. That way, the integers you get from `range` always point to the start of a batch, and each window is `seq_length` wide.\n",
    "\n",
    "> **TODO:** Write the code for creating batches in the function below. The exercises in this notebook _will not be easy_. I've provided a notebook with solutions alongside this notebook. If you get stuck, checkout the solutions. The most important thing is that you don't copy and paste the code into here, **type out the solution code yourself.**"
   ]
  },
  {
   "cell_type": "code",
   "execution_count": 8,
   "metadata": {},
   "outputs": [],
   "source": [
    "def get_batches(arr, batch_size, seq_length):\n",
    "    '''Create a generator that returns batches of size\n",
    "       batch_size x seq_length from arr.\n",
    "       \n",
    "       Arguments\n",
    "       ---------\n",
    "       arr: Array you want to make batches from\n",
    "       batch_size: Batch size, the number of sequences per batch\n",
    "       seq_length: Number of encoded chars in a sequence\n",
    "    '''\n",
    "    \n",
    "    ## TODO: Get the number of batches we can make\n",
    "    batch_size_total = batch_size * seq_length\n",
    "    n_batches = len(arr)//batch_size_total\n",
    "    \n",
    "    ## TODO: Keep only enough characters to make full batches\n",
    "    arr = arr[:n_batches * batch_size_total]\n",
    "    ## TODO: Reshape into batch_size rows\n",
    "    arr = arr.reshape((batch_size, -1)) \n",
    "    \n",
    "    ## TODO: Iterate over the batches using a window of size seq_length\n",
    "    for n in range(0, arr.shape[1], seq_length):\n",
    "        # The features\n",
    "        x = arr[:, n:n+seq_length]\n",
    "        # The targets, shifted by one\n",
    "        y = np.zeros_like(x)\n",
    "        try:\n",
    "            y[:, :-1], y[:, -1] = x[:, 1:], arr[:, n+seq_length]\n",
    "        except IndexError:\n",
    "            y[:,:-1], y[:, -1]  = x[:, 1:], arr[:, 0]\n",
    "        yield x, y"
   ]
  },
  {
   "cell_type": "markdown",
   "metadata": {},
   "source": [
    "### Test Your Implementation\n",
    "\n",
    "Now I'll make some data sets and we can check out what's going on as we batch data. Here, as an example, I'm going to use a batch size of 8 and 50 sequence steps."
   ]
  },
  {
   "cell_type": "code",
   "execution_count": 9,
   "metadata": {},
   "outputs": [],
   "source": [
    "batches = get_batches(encoded, 8, 50)\n",
    "x, y = next(batches)"
   ]
  },
  {
   "cell_type": "code",
   "execution_count": 10,
   "metadata": {},
   "outputs": [
    {
     "name": "stdout",
     "output_type": "stream",
     "text": [
      "x\n",
      " [[43 55 28 36 35 60 47 56 37 49]\n",
      " [41 64 22 56 35 55 28 35 56 28]\n",
      " [60 22 59 56 64 47 56 28 56 25]\n",
      " [41 56 35 55 60 56  6 55 12 60]\n",
      " [56 41 28 82 56 55 60 47 56 35]\n",
      " [ 6 19 41 41 12 64 22 56 28 22]\n",
      " [56 72 22 22 28 56 55 28 59 56]\n",
      " [15 78 75 64 22 41 62  0  9 56]]\n",
      "\n",
      "y\n",
      " [[55 28 36 35 60 47 56 37 49 49]\n",
      " [64 22 56 35 55 28 35 56 28 35]\n",
      " [22 59 56 64 47 56 28 56 25 64]\n",
      " [56 35 55 60 56  6 55 12 60 25]\n",
      " [41 28 82 56 55 60 47 56 35 60]\n",
      " [19 41 41 12 64 22 56 28 22 59]\n",
      " [72 22 22 28 56 55 28 59 56 41]\n",
      " [78 75 64 22 41 62  0  9 56 61]]\n"
     ]
    }
   ],
   "source": [
    "# printing out the first 10 items in a sequence\n",
    "print('x\\n', x[:10, :10])\n",
    "print('\\ny\\n', y[:10, :10])"
   ]
  },
  {
   "cell_type": "markdown",
   "metadata": {},
   "source": [
    "If you implemented `get_batches` correctly, the above output should look something like \n",
    "```\n",
    "x\n",
    " [[25  8 60 11 45 27 28 73  1  2]\n",
    " [17  7 20 73 45  8 60 45 73 60]\n",
    " [27 20 80 73  7 28 73 60 73 65]\n",
    " [17 73 45  8 27 73 66  8 46 27]\n",
    " [73 17 60 12 73  8 27 28 73 45]\n",
    " [66 64 17 17 46  7 20 73 60 20]\n",
    " [73 76 20 20 60 73  8 60 80 73]\n",
    " [47 35 43  7 20 17 24 50 37 73]]\n",
    "\n",
    "y\n",
    " [[ 8 60 11 45 27 28 73  1  2  2]\n",
    " [ 7 20 73 45  8 60 45 73 60 45]\n",
    " [20 80 73  7 28 73 60 73 65  7]\n",
    " [73 45  8 27 73 66  8 46 27 65]\n",
    " [17 60 12 73  8 27 28 73 45 27]\n",
    " [64 17 17 46  7 20 73 60 20 80]\n",
    " [76 20 20 60 73  8 60 80 73 17]\n",
    " [35 43  7 20 17 24 50 37 73 36]]\n",
    " ```\n",
    " although the exact numbers may be different. Check to make sure the data is shifted over one step for `y`."
   ]
  },
  {
   "cell_type": "markdown",
   "metadata": {},
   "source": [
    "---\n",
    "## Defining the network with PyTorch\n",
    "\n",
    "Below is where you'll define the network.\n",
    "\n",
    "<img src=\"assets/charRNN.png\" width=500px>\n",
    "\n",
    "Next, you'll use PyTorch to define the architecture of the network. We start by defining the layers and operations we want. Then, define a method for the forward pass. You've also been given a method for predicting characters."
   ]
  },
  {
   "cell_type": "markdown",
   "metadata": {},
   "source": [
    "### Model Structure\n",
    "\n",
    "In `__init__` the suggested structure is as follows:\n",
    "* Create and store the necessary dictionaries (this has been done for you)\n",
    "* Define an LSTM layer that takes as params: an input size (the number of characters), a hidden layer size `n_hidden`, a number of layers `n_layers`, a dropout probability `drop_prob`, and a batch_first boolean (True, since we are batching)\n",
    "* Define a dropout layer with `drop_prob`\n",
    "* Define a fully-connected layer with params: input size `n_hidden` and output size (the number of characters)\n",
    "* Finally, initialize the weights (again, this has been given)\n",
    "\n",
    "Note that some parameters have been named and given in the `__init__` function, and we use them and store them by doing something like `self.drop_prob = drop_prob`."
   ]
  },
  {
   "cell_type": "markdown",
   "metadata": {},
   "source": [
    "---\n",
    "### LSTM Inputs/Outputs\n",
    "\n",
    "You can create a basic [LSTM layer](https://pytorch.org/docs/stable/nn.html#lstm) as follows\n",
    "\n",
    "```python\n",
    "self.lstm = nn.LSTM(input_size, n_hidden, n_layers, \n",
    "                            dropout=drop_prob, batch_first=True)\n",
    "```\n",
    "\n",
    "where `input_size` is the number of characters this cell expects to see as sequential input, and `n_hidden` is the number of units in the hidden layers in the cell. And we can add dropout by adding a dropout parameter with a specified probability; this will automatically add dropout to the inputs or outputs. Finally, in the `forward` function, we can stack up the LSTM cells into layers using `.view`. With this, you pass in a list of cells and it will send the output of one cell into the next cell.\n",
    "\n",
    "We also need to create an initial hidden state of all zeros. This is done like so\n",
    "\n",
    "```python\n",
    "self.init_hidden()\n",
    "```"
   ]
  },
  {
   "cell_type": "code",
   "execution_count": 11,
   "metadata": {},
   "outputs": [
    {
     "name": "stdout",
     "output_type": "stream",
     "text": [
      "Training on GPU!\n"
     ]
    }
   ],
   "source": [
    "# check if GPU is available\n",
    "train_on_gpu = torch.cuda.is_available()\n",
    "if(train_on_gpu):\n",
    "    print('Training on GPU!')\n",
    "else: \n",
    "    print('No GPU available, training on CPU; consider making n_epochs very small.')"
   ]
  },
  {
   "cell_type": "code",
   "execution_count": 12,
   "metadata": {},
   "outputs": [],
   "source": [
    "class CharRNN(nn.Module):\n",
    "    \n",
    "    def __init__(self, tokens, n_hidden=256, n_layers=2,\n",
    "                               drop_prob=0.5, lr=0.001):\n",
    "        super().__init__()\n",
    "        self.drop_prob = drop_prob\n",
    "        self.n_layers = n_layers\n",
    "        self.n_hidden = n_hidden\n",
    "        self.lr = lr\n",
    "        \n",
    "        # creating character dictionaries\n",
    "        self.chars = tokens\n",
    "        self.int2char = dict(enumerate(self.chars))\n",
    "        self.char2int = {ch: ii for ii, ch in self.int2char.items()}\n",
    "        \n",
    "        ## TODO: define the layers of the model\n",
    "        self.lstm = nn.LSTM(len(self.chars), n_hidden, n_layers, \n",
    "                            dropout=drop_prob, batch_first=True)\n",
    "        # final layer\n",
    "        self.dropout = nn.Dropout(p = drop_prob)\n",
    "        # define the fully connected layer\n",
    "        self.fc = nn.Linear(n_hidden, len(self.chars))\n",
    "    \n",
    "    def forward(self, x, hidden):\n",
    "        ''' Forward pass through the network. \n",
    "            These inputs are x, and the hidden/cell state `hidden`. '''\n",
    "                \n",
    "        ## TODO: Get the outputs and the new hidden state from the lstm\n",
    "        r_output, hidden = self.lstm(x, hidden)\n",
    "        # pass  through a dropout layer according to the docs\n",
    "        out = self.dropout(r_output)\n",
    "        \n",
    "        out = out.contiguous().view(-1, self.n_hidden)\n",
    "        out = self.fc(out)\n",
    "        \n",
    "        # return the final output and the hidden state\n",
    "        \n",
    "        return out, hidden\n",
    "    \n",
    "    \n",
    "    def init_hidden(self, batch_size):\n",
    "        ''' Initializes hidden state '''\n",
    "        # Create two new tensors with sizes n_layers x batch_size x n_hidden,\n",
    "        # initialized to zero, for hidden state and cell state of LSTM\n",
    "        weight = next(self.parameters()).data\n",
    "        \n",
    "        if (train_on_gpu):\n",
    "            hidden = (weight.new(self.n_layers, batch_size, self.n_hidden).zero_().cuda(),\n",
    "                  weight.new(self.n_layers, batch_size, self.n_hidden).zero_().cuda())\n",
    "        else:\n",
    "            hidden = (weight.new(self.n_layers, batch_size, self.n_hidden).zero_(),\n",
    "                      weight.new(self.n_layers, batch_size, self.n_hidden).zero_())\n",
    "        \n",
    "        return hidden\n",
    "        "
   ]
  },
  {
   "cell_type": "markdown",
   "metadata": {},
   "source": [
    "## Time to train\n",
    "\n",
    "The train function gives us the ability to set the number of epochs, the learning rate, and other parameters.\n",
    "\n",
    "Below we're using an Adam optimizer and cross entropy loss since we are looking at character class scores as output. We calculate the loss and perform backpropagation, as usual!\n",
    "\n",
    "A couple of details about training: \n",
    ">* Within the batch loop, we detach the hidden state from its history; this time setting it equal to a new *tuple* variable because an LSTM has a hidden state that is a tuple of the hidden and cell states.\n",
    "* We use [`clip_grad_norm_`](https://pytorch.org/docs/stable/_modules/torch/nn/utils/clip_grad.html) to help prevent exploding gradients."
   ]
  },
  {
   "cell_type": "code",
   "execution_count": 13,
   "metadata": {},
   "outputs": [],
   "source": [
    "def train(net, data, epochs=10, batch_size=10, seq_length=50, lr=0.001, clip=5, val_frac=0.1, print_every=10):\n",
    "    ''' Training a network \n",
    "    \n",
    "        Arguments\n",
    "        ---------\n",
    "        \n",
    "        net: CharRNN network\n",
    "        data: text data to train the network\n",
    "        epochs: Number of epochs to train\n",
    "        batch_size: Number of mini-sequences per mini-batch, aka batch size\n",
    "        seq_length: Number of character steps per mini-batch\n",
    "        lr: learning rate\n",
    "        clip: gradient clipping\n",
    "        val_frac: Fraction of data to hold out for validation\n",
    "        print_every: Number of steps for printing training and validation loss\n",
    "    \n",
    "    '''\n",
    "    net.train()\n",
    "    \n",
    "    opt = torch.optim.Adam(net.parameters(), lr=lr)\n",
    "    criterion = nn.CrossEntropyLoss()\n",
    "    \n",
    "    # create training and validation data\n",
    "    val_idx = int(len(data)*(1-val_frac))\n",
    "    data, val_data = data[:val_idx], data[val_idx:]\n",
    "    \n",
    "    if(train_on_gpu):\n",
    "        net.cuda()\n",
    "    \n",
    "    counter = 0\n",
    "    n_chars = len(net.chars)\n",
    "    for e in range(epochs):\n",
    "        # initialize hidden state\n",
    "        h = net.init_hidden(batch_size)\n",
    "        \n",
    "        for x, y in get_batches(data, batch_size, seq_length):\n",
    "            counter += 1\n",
    "            \n",
    "            # One-hot encode our data and make them Torch tensors\n",
    "            x = one_hot_encode(x, n_chars)\n",
    "            inputs, targets = torch.from_numpy(x), torch.from_numpy(y)\n",
    "            \n",
    "            if(train_on_gpu):\n",
    "                inputs, targets = inputs.cuda(), targets.cuda()\n",
    "\n",
    "            # Creating new variables for the hidden state, otherwise\n",
    "            # we'd backprop through the entire training history\n",
    "            h = tuple([each.data for each in h])\n",
    "\n",
    "            # zero accumulated gradients\n",
    "            net.zero_grad()\n",
    "            \n",
    "            # get the output from the model\n",
    "            output, h = net(inputs, h)\n",
    "            \n",
    "            # calculate the loss and perform backprop\n",
    "            loss = criterion(output, targets.view(batch_size*seq_length).long())\n",
    "            loss.backward()\n",
    "            # `clip_grad_norm` helps prevent the exploding gradient problem in RNNs / LSTMs.\n",
    "            nn.utils.clip_grad_norm_(net.parameters(), clip)\n",
    "            opt.step()\n",
    "            \n",
    "            # loss stats\n",
    "            if counter % print_every == 0:\n",
    "                # Get validation loss\n",
    "                val_h = net.init_hidden(batch_size)\n",
    "                val_losses = []\n",
    "                net.eval()\n",
    "                for x, y in get_batches(val_data, batch_size, seq_length):\n",
    "                    # One-hot encode our data and make them Torch tensors\n",
    "                    x = one_hot_encode(x, n_chars)\n",
    "                    x, y = torch.from_numpy(x), torch.from_numpy(y)\n",
    "                    \n",
    "                    # Creating new variables for the hidden state, otherwise\n",
    "                    # we'd backprop through the entire training history\n",
    "                    val_h = tuple([each.data for each in val_h])\n",
    "                    \n",
    "                    inputs, targets = x, y\n",
    "                    if(train_on_gpu):\n",
    "                        inputs, targets = inputs.cuda(), targets.cuda()\n",
    "\n",
    "                    output, val_h = net(inputs, val_h)\n",
    "                    val_loss = criterion(output, targets.view(batch_size*seq_length).long())\n",
    "                \n",
    "                    val_losses.append(val_loss.item())\n",
    "                \n",
    "                net.train() # reset to train mode after iterationg through validation data\n",
    "                \n",
    "                print(\"Epoch: {}/{}...\".format(e+1, epochs),\n",
    "                      \"Step: {}...\".format(counter),\n",
    "                      \"Loss: {:.4f}...\".format(loss.item()),\n",
    "                      \"Val Loss: {:.4f}\".format(np.mean(val_losses)))"
   ]
  },
  {
   "cell_type": "markdown",
   "metadata": {},
   "source": [
    "## Instantiating the model\n",
    "\n",
    "Now we can actually train the network. First we'll create the network itself, with some given hyperparameters. Then, define the mini-batches sizes, and start training!"
   ]
  },
  {
   "cell_type": "code",
   "execution_count": 14,
   "metadata": {},
   "outputs": [
    {
     "name": "stdout",
     "output_type": "stream",
     "text": [
      "CharRNN(\n",
      "  (lstm): LSTM(83, 512, num_layers=2, batch_first=True, dropout=0.5)\n",
      "  (dropout): Dropout(p=0.5, inplace=False)\n",
      "  (fc): Linear(in_features=512, out_features=83, bias=True)\n",
      ")\n"
     ]
    }
   ],
   "source": [
    "## TODO: set your model hyperparameters\n",
    "# define and print the net\n",
    "n_hidden= 512\n",
    "n_layers=2\n",
    "\n",
    "net = CharRNN(chars, n_hidden, n_layers)\n",
    "print(net)"
   ]
  },
  {
   "cell_type": "markdown",
   "metadata": {},
   "source": [
    "### Set your training hyperparameters!"
   ]
  },
  {
   "cell_type": "code",
   "execution_count": 15,
   "metadata": {
    "scrolled": true
   },
   "outputs": [
    {
     "name": "stdout",
     "output_type": "stream",
     "text": [
      "Epoch: 1/20... Step: 10... Loss: 3.2892... Val Loss: 3.2328\n",
      "Epoch: 1/20... Step: 20... Loss: 3.1647... Val Loss: 3.1428\n",
      "Epoch: 1/20... Step: 30... Loss: 3.1504... Val Loss: 3.1272\n",
      "Epoch: 1/20... Step: 40... Loss: 3.1156... Val Loss: 3.1198\n",
      "Epoch: 1/20... Step: 50... Loss: 3.1479... Val Loss: 3.1186\n",
      "Epoch: 1/20... Step: 60... Loss: 3.1218... Val Loss: 3.1164\n",
      "Epoch: 1/20... Step: 70... Loss: 3.1127... Val Loss: 3.1163\n",
      "Epoch: 1/20... Step: 80... Loss: 3.1292... Val Loss: 3.1148\n",
      "Epoch: 1/20... Step: 90... Loss: 3.1269... Val Loss: 3.1113\n",
      "Epoch: 1/20... Step: 100... Loss: 3.1129... Val Loss: 3.1036\n",
      "Epoch: 1/20... Step: 110... Loss: 3.0979... Val Loss: 3.0840\n",
      "Epoch: 1/20... Step: 120... Loss: 3.0386... Val Loss: 3.0436\n",
      "Epoch: 1/20... Step: 130... Loss: 2.9724... Val Loss: 2.9380\n",
      "Epoch: 2/20... Step: 140... Loss: 2.9477... Val Loss: 2.9078\n",
      "Epoch: 2/20... Step: 150... Loss: 2.8386... Val Loss: 2.7986\n",
      "Epoch: 2/20... Step: 160... Loss: 2.7223... Val Loss: 2.6844\n",
      "Epoch: 2/20... Step: 170... Loss: 2.6178... Val Loss: 2.6140\n",
      "Epoch: 2/20... Step: 180... Loss: 2.5667... Val Loss: 2.5474\n",
      "Epoch: 2/20... Step: 190... Loss: 2.5182... Val Loss: 2.5012\n",
      "Epoch: 2/20... Step: 200... Loss: 2.5034... Val Loss: 2.4753\n",
      "Epoch: 2/20... Step: 210... Loss: 2.4700... Val Loss: 2.4322\n",
      "Epoch: 2/20... Step: 220... Loss: 2.4317... Val Loss: 2.4078\n",
      "Epoch: 2/20... Step: 230... Loss: 2.4144... Val Loss: 2.3731\n",
      "Epoch: 2/20... Step: 240... Loss: 2.3902... Val Loss: 2.3492\n",
      "Epoch: 2/20... Step: 250... Loss: 2.3312... Val Loss: 2.3234\n",
      "Epoch: 2/20... Step: 260... Loss: 2.3104... Val Loss: 2.2977\n",
      "Epoch: 2/20... Step: 270... Loss: 2.3478... Val Loss: 2.2746\n",
      "Epoch: 3/20... Step: 280... Loss: 2.3015... Val Loss: 2.2553\n",
      "Epoch: 3/20... Step: 290... Loss: 2.2676... Val Loss: 2.2276\n",
      "Epoch: 3/20... Step: 300... Loss: 2.2481... Val Loss: 2.2094\n",
      "Epoch: 3/20... Step: 310... Loss: 2.2156... Val Loss: 2.1860\n",
      "Epoch: 3/20... Step: 320... Loss: 2.1828... Val Loss: 2.1623\n",
      "Epoch: 3/20... Step: 330... Loss: 2.1449... Val Loss: 2.1441\n",
      "Epoch: 3/20... Step: 340... Loss: 2.1708... Val Loss: 2.1201\n",
      "Epoch: 3/20... Step: 350... Loss: 2.1536... Val Loss: 2.1029\n",
      "Epoch: 3/20... Step: 360... Loss: 2.0711... Val Loss: 2.0813\n",
      "Epoch: 3/20... Step: 370... Loss: 2.0990... Val Loss: 2.0600\n",
      "Epoch: 3/20... Step: 380... Loss: 2.0754... Val Loss: 2.0431\n",
      "Epoch: 3/20... Step: 390... Loss: 2.0474... Val Loss: 2.0257\n",
      "Epoch: 3/20... Step: 400... Loss: 2.0123... Val Loss: 2.0059\n",
      "Epoch: 3/20... Step: 410... Loss: 2.0305... Val Loss: 1.9945\n",
      "Epoch: 4/20... Step: 420... Loss: 2.0178... Val Loss: 1.9747\n",
      "Epoch: 4/20... Step: 430... Loss: 1.9987... Val Loss: 1.9585\n",
      "Epoch: 4/20... Step: 440... Loss: 1.9818... Val Loss: 1.9499\n",
      "Epoch: 4/20... Step: 450... Loss: 1.9225... Val Loss: 1.9315\n",
      "Epoch: 4/20... Step: 460... Loss: 1.9135... Val Loss: 1.9207\n",
      "Epoch: 4/20... Step: 470... Loss: 1.9321... Val Loss: 1.9119\n",
      "Epoch: 4/20... Step: 480... Loss: 1.9289... Val Loss: 1.8947\n",
      "Epoch: 4/20... Step: 490... Loss: 1.9195... Val Loss: 1.8829\n",
      "Epoch: 4/20... Step: 500... Loss: 1.9127... Val Loss: 1.8677\n",
      "Epoch: 4/20... Step: 510... Loss: 1.8765... Val Loss: 1.8533\n",
      "Epoch: 4/20... Step: 520... Loss: 1.8995... Val Loss: 1.8453\n",
      "Epoch: 4/20... Step: 530... Loss: 1.8559... Val Loss: 1.8341\n",
      "Epoch: 4/20... Step: 540... Loss: 1.8206... Val Loss: 1.8265\n",
      "Epoch: 4/20... Step: 550... Loss: 1.8647... Val Loss: 1.8093\n",
      "Epoch: 5/20... Step: 560... Loss: 1.8285... Val Loss: 1.8055\n",
      "Epoch: 5/20... Step: 570... Loss: 1.8109... Val Loss: 1.7916\n",
      "Epoch: 5/20... Step: 580... Loss: 1.7865... Val Loss: 1.7831\n",
      "Epoch: 5/20... Step: 590... Loss: 1.7938... Val Loss: 1.7700\n",
      "Epoch: 5/20... Step: 600... Loss: 1.7782... Val Loss: 1.7623\n",
      "Epoch: 5/20... Step: 610... Loss: 1.7644... Val Loss: 1.7551\n",
      "Epoch: 5/20... Step: 620... Loss: 1.7648... Val Loss: 1.7419\n",
      "Epoch: 5/20... Step: 630... Loss: 1.7826... Val Loss: 1.7385\n",
      "Epoch: 5/20... Step: 640... Loss: 1.7581... Val Loss: 1.7293\n",
      "Epoch: 5/20... Step: 650... Loss: 1.7419... Val Loss: 1.7210\n",
      "Epoch: 5/20... Step: 660... Loss: 1.7075... Val Loss: 1.7116\n",
      "Epoch: 5/20... Step: 670... Loss: 1.7356... Val Loss: 1.7035\n",
      "Epoch: 5/20... Step: 680... Loss: 1.7284... Val Loss: 1.6980\n",
      "Epoch: 5/20... Step: 690... Loss: 1.7083... Val Loss: 1.6910\n",
      "Epoch: 6/20... Step: 700... Loss: 1.7056... Val Loss: 1.6859\n",
      "Epoch: 6/20... Step: 710... Loss: 1.6922... Val Loss: 1.6769\n",
      "Epoch: 6/20... Step: 720... Loss: 1.6828... Val Loss: 1.6689\n",
      "Epoch: 6/20... Step: 730... Loss: 1.7006... Val Loss: 1.6636\n",
      "Epoch: 6/20... Step: 740... Loss: 1.6576... Val Loss: 1.6584\n",
      "Epoch: 6/20... Step: 750... Loss: 1.6383... Val Loss: 1.6509\n",
      "Epoch: 6/20... Step: 760... Loss: 1.6873... Val Loss: 1.6495\n",
      "Epoch: 6/20... Step: 770... Loss: 1.6652... Val Loss: 1.6393\n",
      "Epoch: 6/20... Step: 780... Loss: 1.6432... Val Loss: 1.6345\n",
      "Epoch: 6/20... Step: 790... Loss: 1.6338... Val Loss: 1.6313\n",
      "Epoch: 6/20... Step: 800... Loss: 1.6484... Val Loss: 1.6283\n",
      "Epoch: 6/20... Step: 810... Loss: 1.6317... Val Loss: 1.6188\n",
      "Epoch: 6/20... Step: 820... Loss: 1.5983... Val Loss: 1.6146\n",
      "Epoch: 6/20... Step: 830... Loss: 1.6399... Val Loss: 1.6110\n",
      "Epoch: 7/20... Step: 840... Loss: 1.5905... Val Loss: 1.6042\n",
      "Epoch: 7/20... Step: 850... Loss: 1.6099... Val Loss: 1.5987\n",
      "Epoch: 7/20... Step: 860... Loss: 1.5897... Val Loss: 1.5909\n",
      "Epoch: 7/20... Step: 870... Loss: 1.6106... Val Loss: 1.5853\n",
      "Epoch: 7/20... Step: 880... Loss: 1.6026... Val Loss: 1.5847\n",
      "Epoch: 7/20... Step: 890... Loss: 1.5900... Val Loss: 1.5776\n",
      "Epoch: 7/20... Step: 900... Loss: 1.5763... Val Loss: 1.5756\n",
      "Epoch: 7/20... Step: 910... Loss: 1.5436... Val Loss: 1.5716\n",
      "Epoch: 7/20... Step: 920... Loss: 1.5787... Val Loss: 1.5655\n",
      "Epoch: 7/20... Step: 930... Loss: 1.5619... Val Loss: 1.5638\n",
      "Epoch: 7/20... Step: 940... Loss: 1.5579... Val Loss: 1.5598\n",
      "Epoch: 7/20... Step: 950... Loss: 1.5797... Val Loss: 1.5545\n",
      "Epoch: 7/20... Step: 960... Loss: 1.5739... Val Loss: 1.5523\n",
      "Epoch: 7/20... Step: 970... Loss: 1.5791... Val Loss: 1.5492\n",
      "Epoch: 8/20... Step: 980... Loss: 1.5496... Val Loss: 1.5459\n",
      "Epoch: 8/20... Step: 990... Loss: 1.5514... Val Loss: 1.5389\n",
      "Epoch: 8/20... Step: 1000... Loss: 1.5305... Val Loss: 1.5359\n",
      "Epoch: 8/20... Step: 1010... Loss: 1.5798... Val Loss: 1.5307\n",
      "Epoch: 8/20... Step: 1020... Loss: 1.5481... Val Loss: 1.5283\n",
      "Epoch: 8/20... Step: 1030... Loss: 1.5214... Val Loss: 1.5233\n",
      "Epoch: 8/20... Step: 1040... Loss: 1.5437... Val Loss: 1.5217\n",
      "Epoch: 8/20... Step: 1050... Loss: 1.5198... Val Loss: 1.5189\n",
      "Epoch: 8/20... Step: 1060... Loss: 1.5234... Val Loss: 1.5170\n",
      "Epoch: 8/20... Step: 1070... Loss: 1.5290... Val Loss: 1.5126\n",
      "Epoch: 8/20... Step: 1080... Loss: 1.5307... Val Loss: 1.5106\n",
      "Epoch: 8/20... Step: 1090... Loss: 1.5128... Val Loss: 1.5041\n",
      "Epoch: 8/20... Step: 1100... Loss: 1.5005... Val Loss: 1.5024\n",
      "Epoch: 8/20... Step: 1110... Loss: 1.5020... Val Loss: 1.5009\n",
      "Epoch: 9/20... Step: 1120... Loss: 1.5168... Val Loss: 1.4989\n",
      "Epoch: 9/20... Step: 1130... Loss: 1.5095... Val Loss: 1.4944\n",
      "Epoch: 9/20... Step: 1140... Loss: 1.5058... Val Loss: 1.4889\n",
      "Epoch: 9/20... Step: 1150... Loss: 1.5291... Val Loss: 1.4886\n",
      "Epoch: 9/20... Step: 1160... Loss: 1.4685... Val Loss: 1.4860\n",
      "Epoch: 9/20... Step: 1170... Loss: 1.4907... Val Loss: 1.4829\n",
      "Epoch: 9/20... Step: 1180... Loss: 1.4758... Val Loss: 1.4809\n",
      "Epoch: 9/20... Step: 1190... Loss: 1.5116... Val Loss: 1.4822\n",
      "Epoch: 9/20... Step: 1200... Loss: 1.4623... Val Loss: 1.4770\n",
      "Epoch: 9/20... Step: 1210... Loss: 1.4726... Val Loss: 1.4739\n",
      "Epoch: 9/20... Step: 1220... Loss: 1.4629... Val Loss: 1.4723\n",
      "Epoch: 9/20... Step: 1230... Loss: 1.4540... Val Loss: 1.4691\n",
      "Epoch: 9/20... Step: 1240... Loss: 1.4554... Val Loss: 1.4647\n",
      "Epoch: 9/20... Step: 1250... Loss: 1.4707... Val Loss: 1.4650\n",
      "Epoch: 10/20... Step: 1260... Loss: 1.4737... Val Loss: 1.4616\n",
      "Epoch: 10/20... Step: 1270... Loss: 1.4684... Val Loss: 1.4616\n",
      "Epoch: 10/20... Step: 1280... Loss: 1.4840... Val Loss: 1.4539\n",
      "Epoch: 10/20... Step: 1290... Loss: 1.4710... Val Loss: 1.4557\n",
      "Epoch: 10/20... Step: 1300... Loss: 1.4561... Val Loss: 1.4544\n",
      "Epoch: 10/20... Step: 1310... Loss: 1.4693... Val Loss: 1.4506\n",
      "Epoch: 10/20... Step: 1320... Loss: 1.4252... Val Loss: 1.4502\n",
      "Epoch: 10/20... Step: 1330... Loss: 1.4292... Val Loss: 1.4474\n",
      "Epoch: 10/20... Step: 1340... Loss: 1.4195... Val Loss: 1.4469\n"
     ]
    },
    {
     "name": "stdout",
     "output_type": "stream",
     "text": [
      "Epoch: 10/20... Step: 1350... Loss: 1.4155... Val Loss: 1.4437\n",
      "Epoch: 10/20... Step: 1360... Loss: 1.4264... Val Loss: 1.4436\n",
      "Epoch: 10/20... Step: 1370... Loss: 1.4136... Val Loss: 1.4416\n",
      "Epoch: 10/20... Step: 1380... Loss: 1.4467... Val Loss: 1.4353\n",
      "Epoch: 10/20... Step: 1390... Loss: 1.4512... Val Loss: 1.4355\n",
      "Epoch: 11/20... Step: 1400... Loss: 1.4485... Val Loss: 1.4349\n",
      "Epoch: 11/20... Step: 1410... Loss: 1.4740... Val Loss: 1.4291\n",
      "Epoch: 11/20... Step: 1420... Loss: 1.4625... Val Loss: 1.4242\n",
      "Epoch: 11/20... Step: 1430... Loss: 1.4162... Val Loss: 1.4291\n",
      "Epoch: 11/20... Step: 1440... Loss: 1.4502... Val Loss: 1.4255\n",
      "Epoch: 11/20... Step: 1450... Loss: 1.3796... Val Loss: 1.4229\n",
      "Epoch: 11/20... Step: 1460... Loss: 1.4071... Val Loss: 1.4215\n",
      "Epoch: 11/20... Step: 1470... Loss: 1.3975... Val Loss: 1.4190\n",
      "Epoch: 11/20... Step: 1480... Loss: 1.4165... Val Loss: 1.4162\n",
      "Epoch: 11/20... Step: 1490... Loss: 1.4026... Val Loss: 1.4159\n",
      "Epoch: 11/20... Step: 1500... Loss: 1.4014... Val Loss: 1.4208\n",
      "Epoch: 11/20... Step: 1510... Loss: 1.3740... Val Loss: 1.4153\n",
      "Epoch: 11/20... Step: 1520... Loss: 1.4120... Val Loss: 1.4114\n",
      "Epoch: 12/20... Step: 1530... Loss: 1.4641... Val Loss: 1.4114\n",
      "Epoch: 12/20... Step: 1540... Loss: 1.4170... Val Loss: 1.4075\n",
      "Epoch: 12/20... Step: 1550... Loss: 1.4165... Val Loss: 1.4065\n",
      "Epoch: 12/20... Step: 1560... Loss: 1.4262... Val Loss: 1.4032\n",
      "Epoch: 12/20... Step: 1570... Loss: 1.3753... Val Loss: 1.4071\n",
      "Epoch: 12/20... Step: 1580... Loss: 1.3638... Val Loss: 1.4050\n",
      "Epoch: 12/20... Step: 1590... Loss: 1.3521... Val Loss: 1.4026\n",
      "Epoch: 12/20... Step: 1600... Loss: 1.3897... Val Loss: 1.4038\n",
      "Epoch: 12/20... Step: 1610... Loss: 1.3721... Val Loss: 1.4018\n",
      "Epoch: 12/20... Step: 1620... Loss: 1.3753... Val Loss: 1.3972\n",
      "Epoch: 12/20... Step: 1630... Loss: 1.4043... Val Loss: 1.3947\n",
      "Epoch: 12/20... Step: 1640... Loss: 1.3676... Val Loss: 1.3964\n",
      "Epoch: 12/20... Step: 1650... Loss: 1.3425... Val Loss: 1.3926\n",
      "Epoch: 12/20... Step: 1660... Loss: 1.4046... Val Loss: 1.3905\n",
      "Epoch: 13/20... Step: 1670... Loss: 1.3674... Val Loss: 1.3963\n",
      "Epoch: 13/20... Step: 1680... Loss: 1.3840... Val Loss: 1.3877\n",
      "Epoch: 13/20... Step: 1690... Loss: 1.3640... Val Loss: 1.3869\n",
      "Epoch: 13/20... Step: 1700... Loss: 1.3666... Val Loss: 1.3855\n",
      "Epoch: 13/20... Step: 1710... Loss: 1.3403... Val Loss: 1.3877\n",
      "Epoch: 13/20... Step: 1720... Loss: 1.3518... Val Loss: 1.3836\n",
      "Epoch: 13/20... Step: 1730... Loss: 1.3926... Val Loss: 1.3849\n",
      "Epoch: 13/20... Step: 1740... Loss: 1.3582... Val Loss: 1.3843\n",
      "Epoch: 13/20... Step: 1750... Loss: 1.3291... Val Loss: 1.3830\n",
      "Epoch: 13/20... Step: 1760... Loss: 1.3491... Val Loss: 1.3763\n",
      "Epoch: 13/20... Step: 1770... Loss: 1.3698... Val Loss: 1.3767\n",
      "Epoch: 13/20... Step: 1780... Loss: 1.3504... Val Loss: 1.3790\n",
      "Epoch: 13/20... Step: 1790... Loss: 1.3341... Val Loss: 1.3770\n",
      "Epoch: 13/20... Step: 1800... Loss: 1.3574... Val Loss: 1.3703\n",
      "Epoch: 14/20... Step: 1810... Loss: 1.3628... Val Loss: 1.3757\n",
      "Epoch: 14/20... Step: 1820... Loss: 1.3441... Val Loss: 1.3684\n",
      "Epoch: 14/20... Step: 1830... Loss: 1.3723... Val Loss: 1.3679\n",
      "Epoch: 14/20... Step: 1840... Loss: 1.3113... Val Loss: 1.3666\n",
      "Epoch: 14/20... Step: 1850... Loss: 1.2925... Val Loss: 1.3669\n",
      "Epoch: 14/20... Step: 1860... Loss: 1.3491... Val Loss: 1.3644\n",
      "Epoch: 14/20... Step: 1870... Loss: 1.3577... Val Loss: 1.3675\n",
      "Epoch: 14/20... Step: 1880... Loss: 1.3393... Val Loss: 1.3628\n",
      "Epoch: 14/20... Step: 1890... Loss: 1.3627... Val Loss: 1.3626\n",
      "Epoch: 14/20... Step: 1900... Loss: 1.3414... Val Loss: 1.3637\n",
      "Epoch: 14/20... Step: 1910... Loss: 1.3355... Val Loss: 1.3599\n",
      "Epoch: 14/20... Step: 1920... Loss: 1.3219... Val Loss: 1.3569\n",
      "Epoch: 14/20... Step: 1930... Loss: 1.2959... Val Loss: 1.3536\n",
      "Epoch: 14/20... Step: 1940... Loss: 1.3540... Val Loss: 1.3521\n",
      "Epoch: 15/20... Step: 1950... Loss: 1.3214... Val Loss: 1.3622\n",
      "Epoch: 15/20... Step: 1960... Loss: 1.3245... Val Loss: 1.3508\n",
      "Epoch: 15/20... Step: 1970... Loss: 1.3144... Val Loss: 1.3478\n",
      "Epoch: 15/20... Step: 1980... Loss: 1.3115... Val Loss: 1.3481\n",
      "Epoch: 15/20... Step: 1990... Loss: 1.3069... Val Loss: 1.3469\n",
      "Epoch: 15/20... Step: 2000... Loss: 1.2941... Val Loss: 1.3488\n",
      "Epoch: 15/20... Step: 2010... Loss: 1.3113... Val Loss: 1.3410\n",
      "Epoch: 15/20... Step: 2020... Loss: 1.3321... Val Loss: 1.3391\n",
      "Epoch: 15/20... Step: 2030... Loss: 1.2959... Val Loss: 1.3388\n",
      "Epoch: 15/20... Step: 2040... Loss: 1.3111... Val Loss: 1.3350\n",
      "Epoch: 15/20... Step: 2050... Loss: 1.3040... Val Loss: 1.3391\n",
      "Epoch: 15/20... Step: 2060... Loss: 1.3055... Val Loss: 1.3379\n",
      "Epoch: 15/20... Step: 2070... Loss: 1.3224... Val Loss: 1.3323\n",
      "Epoch: 15/20... Step: 2080... Loss: 1.3109... Val Loss: 1.3378\n",
      "Epoch: 16/20... Step: 2090... Loss: 1.3175... Val Loss: 1.3359\n",
      "Epoch: 16/20... Step: 2100... Loss: 1.2949... Val Loss: 1.3291\n",
      "Epoch: 16/20... Step: 2110... Loss: 1.2843... Val Loss: 1.3293\n",
      "Epoch: 16/20... Step: 2120... Loss: 1.3015... Val Loss: 1.3339\n",
      "Epoch: 16/20... Step: 2130... Loss: 1.2697... Val Loss: 1.3287\n",
      "Epoch: 16/20... Step: 2140... Loss: 1.2796... Val Loss: 1.3279\n",
      "Epoch: 16/20... Step: 2150... Loss: 1.3064... Val Loss: 1.3254\n",
      "Epoch: 16/20... Step: 2160... Loss: 1.2881... Val Loss: 1.3260\n",
      "Epoch: 16/20... Step: 2170... Loss: 1.2832... Val Loss: 1.3317\n",
      "Epoch: 16/20... Step: 2180... Loss: 1.2754... Val Loss: 1.3238\n",
      "Epoch: 16/20... Step: 2190... Loss: 1.2961... Val Loss: 1.3242\n",
      "Epoch: 16/20... Step: 2200... Loss: 1.2709... Val Loss: 1.3243\n",
      "Epoch: 16/20... Step: 2210... Loss: 1.2470... Val Loss: 1.3176\n"
     ]
    },
    {
     "ename": "RuntimeError",
     "evalue": "CUDA error: unspecified launch failure",
     "output_type": "error",
     "traceback": [
      "\u001b[0;31m---------------------------------------------------------------------------\u001b[0m",
      "\u001b[0;31mRuntimeError\u001b[0m                              Traceback (most recent call last)",
      "\u001b[0;32m<ipython-input-15-d59263830c4c>\u001b[0m in \u001b[0;36m<module>\u001b[0;34m\u001b[0m\n\u001b[1;32m      4\u001b[0m \u001b[0;34m\u001b[0m\u001b[0m\n\u001b[1;32m      5\u001b[0m \u001b[0;31m# train the model\u001b[0m\u001b[0;34m\u001b[0m\u001b[0;34m\u001b[0m\u001b[0;34m\u001b[0m\u001b[0m\n\u001b[0;32m----> 6\u001b[0;31m \u001b[0mtrain\u001b[0m\u001b[0;34m(\u001b[0m\u001b[0mnet\u001b[0m\u001b[0;34m,\u001b[0m \u001b[0mencoded\u001b[0m\u001b[0;34m,\u001b[0m \u001b[0mepochs\u001b[0m\u001b[0;34m=\u001b[0m\u001b[0mn_epochs\u001b[0m\u001b[0;34m,\u001b[0m \u001b[0mbatch_size\u001b[0m\u001b[0;34m=\u001b[0m\u001b[0mbatch_size\u001b[0m\u001b[0;34m,\u001b[0m \u001b[0mseq_length\u001b[0m\u001b[0;34m=\u001b[0m\u001b[0mseq_length\u001b[0m\u001b[0;34m,\u001b[0m \u001b[0mlr\u001b[0m\u001b[0;34m=\u001b[0m\u001b[0;36m0.001\u001b[0m\u001b[0;34m,\u001b[0m \u001b[0mprint_every\u001b[0m\u001b[0;34m=\u001b[0m\u001b[0;36m10\u001b[0m\u001b[0;34m)\u001b[0m\u001b[0;34m\u001b[0m\u001b[0;34m\u001b[0m\u001b[0m\n\u001b[0m",
      "\u001b[0;32m<ipython-input-13-f80b276f8cb1>\u001b[0m in \u001b[0;36mtrain\u001b[0;34m(net, data, epochs, batch_size, seq_length, lr, clip, val_frac, print_every)\u001b[0m\n\u001b[1;32m     58\u001b[0m             \u001b[0mloss\u001b[0m\u001b[0;34m.\u001b[0m\u001b[0mbackward\u001b[0m\u001b[0;34m(\u001b[0m\u001b[0;34m)\u001b[0m\u001b[0;34m\u001b[0m\u001b[0;34m\u001b[0m\u001b[0m\n\u001b[1;32m     59\u001b[0m             \u001b[0;31m# `clip_grad_norm` helps prevent the exploding gradient problem in RNNs / LSTMs.\u001b[0m\u001b[0;34m\u001b[0m\u001b[0;34m\u001b[0m\u001b[0;34m\u001b[0m\u001b[0m\n\u001b[0;32m---> 60\u001b[0;31m             \u001b[0mnn\u001b[0m\u001b[0;34m.\u001b[0m\u001b[0mutils\u001b[0m\u001b[0;34m.\u001b[0m\u001b[0mclip_grad_norm_\u001b[0m\u001b[0;34m(\u001b[0m\u001b[0mnet\u001b[0m\u001b[0;34m.\u001b[0m\u001b[0mparameters\u001b[0m\u001b[0;34m(\u001b[0m\u001b[0;34m)\u001b[0m\u001b[0;34m,\u001b[0m \u001b[0mclip\u001b[0m\u001b[0;34m)\u001b[0m\u001b[0;34m\u001b[0m\u001b[0;34m\u001b[0m\u001b[0m\n\u001b[0m\u001b[1;32m     61\u001b[0m             \u001b[0mopt\u001b[0m\u001b[0;34m.\u001b[0m\u001b[0mstep\u001b[0m\u001b[0;34m(\u001b[0m\u001b[0;34m)\u001b[0m\u001b[0;34m\u001b[0m\u001b[0;34m\u001b[0m\u001b[0m\n\u001b[1;32m     62\u001b[0m \u001b[0;34m\u001b[0m\u001b[0m\n",
      "\u001b[0;32m~/anaconda3/lib/python3.7/site-packages/torch/nn/utils/clip_grad.py\u001b[0m in \u001b[0;36mclip_grad_norm_\u001b[0;34m(parameters, max_norm, norm_type)\u001b[0m\n\u001b[1;32m     31\u001b[0m         \u001b[0;32mfor\u001b[0m \u001b[0mp\u001b[0m \u001b[0;32min\u001b[0m \u001b[0mparameters\u001b[0m\u001b[0;34m:\u001b[0m\u001b[0;34m\u001b[0m\u001b[0;34m\u001b[0m\u001b[0m\n\u001b[1;32m     32\u001b[0m             \u001b[0mparam_norm\u001b[0m \u001b[0;34m=\u001b[0m \u001b[0mp\u001b[0m\u001b[0;34m.\u001b[0m\u001b[0mgrad\u001b[0m\u001b[0;34m.\u001b[0m\u001b[0mdata\u001b[0m\u001b[0;34m.\u001b[0m\u001b[0mnorm\u001b[0m\u001b[0;34m(\u001b[0m\u001b[0mnorm_type\u001b[0m\u001b[0;34m)\u001b[0m\u001b[0;34m\u001b[0m\u001b[0;34m\u001b[0m\u001b[0m\n\u001b[0;32m---> 33\u001b[0;31m             \u001b[0mtotal_norm\u001b[0m \u001b[0;34m+=\u001b[0m \u001b[0mparam_norm\u001b[0m\u001b[0;34m.\u001b[0m\u001b[0mitem\u001b[0m\u001b[0;34m(\u001b[0m\u001b[0;34m)\u001b[0m \u001b[0;34m**\u001b[0m \u001b[0mnorm_type\u001b[0m\u001b[0;34m\u001b[0m\u001b[0;34m\u001b[0m\u001b[0m\n\u001b[0m\u001b[1;32m     34\u001b[0m         \u001b[0mtotal_norm\u001b[0m \u001b[0;34m=\u001b[0m \u001b[0mtotal_norm\u001b[0m \u001b[0;34m**\u001b[0m \u001b[0;34m(\u001b[0m\u001b[0;36m1.\u001b[0m \u001b[0;34m/\u001b[0m \u001b[0mnorm_type\u001b[0m\u001b[0;34m)\u001b[0m\u001b[0;34m\u001b[0m\u001b[0;34m\u001b[0m\u001b[0m\n\u001b[1;32m     35\u001b[0m     \u001b[0mclip_coef\u001b[0m \u001b[0;34m=\u001b[0m \u001b[0mmax_norm\u001b[0m \u001b[0;34m/\u001b[0m \u001b[0;34m(\u001b[0m\u001b[0mtotal_norm\u001b[0m \u001b[0;34m+\u001b[0m \u001b[0;36m1e-6\u001b[0m\u001b[0;34m)\u001b[0m\u001b[0;34m\u001b[0m\u001b[0;34m\u001b[0m\u001b[0m\n",
      "\u001b[0;31mRuntimeError\u001b[0m: CUDA error: unspecified launch failure"
     ]
    }
   ],
   "source": [
    "batch_size = 128\n",
    "seq_length = 100\n",
    "n_epochs =  20# start small if you are just testing initial behavior\n",
    "\n",
    "# train the model\n",
    "train(net, encoded, epochs=n_epochs, batch_size=batch_size, seq_length=seq_length, lr=0.001, print_every=10)"
   ]
  },
  {
   "cell_type": "markdown",
   "metadata": {},
   "source": [
    "## Getting the best model\n",
    "\n",
    "To set your hyperparameters to get the best performance, you'll want to watch the training and validation losses. If your training loss is much lower than the validation loss, you're overfitting. Increase regularization (more dropout) or use a smaller network. If the training and validation losses are close, you're underfitting so you can increase the size of the network."
   ]
  },
  {
   "cell_type": "markdown",
   "metadata": {},
   "source": [
    "## Hyperparameters\n",
    "\n",
    "Here are the hyperparameters for the network.\n",
    "\n",
    "In defining the model:\n",
    "* `n_hidden` - The number of units in the hidden layers.\n",
    "* `n_layers` - Number of hidden LSTM layers to use.\n",
    "\n",
    "We assume that dropout probability and learning rate will be kept at the default, in this example.\n",
    "\n",
    "And in training:\n",
    "* `batch_size` - Number of sequences running through the network in one pass.\n",
    "* `seq_length` - Number of characters in the sequence the network is trained on. Larger is better typically, the network will learn more long range dependencies. But it takes longer to train. 100 is typically a good number here.\n",
    "* `lr` - Learning rate for training\n",
    "\n",
    "Here's some good advice from Andrej Karpathy on training the network. I'm going to copy it in here for your benefit, but also link to [where it originally came from](https://github.com/karpathy/char-rnn#tips-and-tricks).\n",
    "\n",
    "> ## Tips and Tricks\n",
    "\n",
    ">### Monitoring Validation Loss vs. Training Loss\n",
    ">If you're somewhat new to Machine Learning or Neural Networks it can take a bit of expertise to get good models. The most important quantity to keep track of is the difference between your training loss (printed during training) and the validation loss (printed once in a while when the RNN is run on the validation data (by default every 1000 iterations)). In particular:\n",
    "\n",
    "> - If your training loss is much lower than validation loss then this means the network might be **overfitting**. Solutions to this are to decrease your network size, or to increase dropout. For example you could try dropout of 0.5 and so on.\n",
    "> - If your training/validation loss are about equal then your model is **underfitting**. Increase the size of your model (either number of layers or the raw number of neurons per layer)\n",
    "\n",
    "> ### Approximate number of parameters\n",
    "\n",
    "> The two most important parameters that control the model are `n_hidden` and `n_layers`. I would advise that you always use `n_layers` of either 2/3. The `n_hidden` can be adjusted based on how much data you have. The two important quantities to keep track of here are:\n",
    "\n",
    "> - The number of parameters in your model. This is printed when you start training.\n",
    "> - The size of your dataset. 1MB file is approximately 1 million characters.\n",
    "\n",
    ">These two should be about the same order of magnitude. It's a little tricky to tell. Here are some examples:\n",
    "\n",
    "> - I have a 100MB dataset and I'm using the default parameter settings (which currently print 150K parameters). My data size is significantly larger (100 mil >> 0.15 mil), so I expect to heavily underfit. I am thinking I can comfortably afford to make `n_hidden` larger.\n",
    "> - I have a 10MB dataset and running a 10 million parameter model. I'm slightly nervous and I'm carefully monitoring my validation loss. If it's larger than my training loss then I may want to try to increase dropout a bit and see if that helps the validation loss.\n",
    "\n",
    "> ### Best models strategy\n",
    "\n",
    ">The winning strategy to obtaining very good models (if you have the compute time) is to always err on making the network larger (as large as you're willing to wait for it to compute) and then try different dropout values (between 0,1). Whatever model has the best validation performance (the loss, written in the checkpoint filename, low is good) is the one you should use in the end.\n",
    "\n",
    ">It is very common in deep learning to run many different models with many different hyperparameter settings, and in the end take whatever checkpoint gave the best validation performance.\n",
    "\n",
    ">By the way, the size of your training and validation splits are also parameters. Make sure you have a decent amount of data in your validation set or otherwise the validation performance will be noisy and not very informative."
   ]
  },
  {
   "cell_type": "markdown",
   "metadata": {},
   "source": [
    "## Checkpoint\n",
    "\n",
    "After training, we'll save the model so we can load it again later if we need too. Here I'm saving the parameters needed to create the same architecture, the hidden layer hyperparameters and the text characters."
   ]
  },
  {
   "cell_type": "code",
   "execution_count": 16,
   "metadata": {},
   "outputs": [
    {
     "ename": "RuntimeError",
     "evalue": "cuda runtime error (719) : unspecified launch failure at /opt/conda/conda-bld/pytorch_1573049306803/work/torch/csrc/generic/serialization.cpp:23",
     "output_type": "error",
     "traceback": [
      "\u001b[0;31m---------------------------------------------------------------------------\u001b[0m",
      "\u001b[0;31mRuntimeError\u001b[0m                              Traceback (most recent call last)",
      "\u001b[0;32m<ipython-input-16-af7cd6da1328>\u001b[0m in \u001b[0;36m<module>\u001b[0;34m\u001b[0m\n\u001b[1;32m      8\u001b[0m \u001b[0;34m\u001b[0m\u001b[0m\n\u001b[1;32m      9\u001b[0m \u001b[0;32mwith\u001b[0m \u001b[0mopen\u001b[0m\u001b[0;34m(\u001b[0m\u001b[0mmodel_name\u001b[0m\u001b[0;34m,\u001b[0m \u001b[0;34m'wb'\u001b[0m\u001b[0;34m)\u001b[0m \u001b[0;32mas\u001b[0m \u001b[0mf\u001b[0m\u001b[0;34m:\u001b[0m\u001b[0;34m\u001b[0m\u001b[0;34m\u001b[0m\u001b[0m\n\u001b[0;32m---> 10\u001b[0;31m     \u001b[0mtorch\u001b[0m\u001b[0;34m.\u001b[0m\u001b[0msave\u001b[0m\u001b[0;34m(\u001b[0m\u001b[0mcheckpoint\u001b[0m\u001b[0;34m,\u001b[0m \u001b[0mf\u001b[0m\u001b[0;34m)\u001b[0m\u001b[0;34m\u001b[0m\u001b[0;34m\u001b[0m\u001b[0m\n\u001b[0m",
      "\u001b[0;32m~/anaconda3/lib/python3.7/site-packages/torch/serialization.py\u001b[0m in \u001b[0;36msave\u001b[0;34m(obj, f, pickle_module, pickle_protocol)\u001b[0m\n\u001b[1;32m    258\u001b[0m         \u001b[0;34m>>\u001b[0m\u001b[0;34m>\u001b[0m \u001b[0mtorch\u001b[0m\u001b[0;34m.\u001b[0m\u001b[0msave\u001b[0m\u001b[0;34m(\u001b[0m\u001b[0mx\u001b[0m\u001b[0;34m,\u001b[0m \u001b[0mbuffer\u001b[0m\u001b[0;34m)\u001b[0m\u001b[0;34m\u001b[0m\u001b[0;34m\u001b[0m\u001b[0m\n\u001b[1;32m    259\u001b[0m     \"\"\"\n\u001b[0;32m--> 260\u001b[0;31m     \u001b[0;32mreturn\u001b[0m \u001b[0m_with_file_like\u001b[0m\u001b[0;34m(\u001b[0m\u001b[0mf\u001b[0m\u001b[0;34m,\u001b[0m \u001b[0;34m\"wb\"\u001b[0m\u001b[0;34m,\u001b[0m \u001b[0;32mlambda\u001b[0m \u001b[0mf\u001b[0m\u001b[0;34m:\u001b[0m \u001b[0m_save\u001b[0m\u001b[0;34m(\u001b[0m\u001b[0mobj\u001b[0m\u001b[0;34m,\u001b[0m \u001b[0mf\u001b[0m\u001b[0;34m,\u001b[0m \u001b[0mpickle_module\u001b[0m\u001b[0;34m,\u001b[0m \u001b[0mpickle_protocol\u001b[0m\u001b[0;34m)\u001b[0m\u001b[0;34m)\u001b[0m\u001b[0;34m\u001b[0m\u001b[0;34m\u001b[0m\u001b[0m\n\u001b[0m\u001b[1;32m    261\u001b[0m \u001b[0;34m\u001b[0m\u001b[0m\n\u001b[1;32m    262\u001b[0m \u001b[0;34m\u001b[0m\u001b[0m\n",
      "\u001b[0;32m~/anaconda3/lib/python3.7/site-packages/torch/serialization.py\u001b[0m in \u001b[0;36m_with_file_like\u001b[0;34m(f, mode, body)\u001b[0m\n\u001b[1;32m    183\u001b[0m         \u001b[0mf\u001b[0m \u001b[0;34m=\u001b[0m \u001b[0mopen\u001b[0m\u001b[0;34m(\u001b[0m\u001b[0mf\u001b[0m\u001b[0;34m,\u001b[0m \u001b[0mmode\u001b[0m\u001b[0;34m)\u001b[0m\u001b[0;34m\u001b[0m\u001b[0;34m\u001b[0m\u001b[0m\n\u001b[1;32m    184\u001b[0m     \u001b[0;32mtry\u001b[0m\u001b[0;34m:\u001b[0m\u001b[0;34m\u001b[0m\u001b[0;34m\u001b[0m\u001b[0m\n\u001b[0;32m--> 185\u001b[0;31m         \u001b[0;32mreturn\u001b[0m \u001b[0mbody\u001b[0m\u001b[0;34m(\u001b[0m\u001b[0mf\u001b[0m\u001b[0;34m)\u001b[0m\u001b[0;34m\u001b[0m\u001b[0;34m\u001b[0m\u001b[0m\n\u001b[0m\u001b[1;32m    186\u001b[0m     \u001b[0;32mfinally\u001b[0m\u001b[0;34m:\u001b[0m\u001b[0;34m\u001b[0m\u001b[0;34m\u001b[0m\u001b[0m\n\u001b[1;32m    187\u001b[0m         \u001b[0;32mif\u001b[0m \u001b[0mnew_fd\u001b[0m\u001b[0;34m:\u001b[0m\u001b[0;34m\u001b[0m\u001b[0;34m\u001b[0m\u001b[0m\n",
      "\u001b[0;32m~/anaconda3/lib/python3.7/site-packages/torch/serialization.py\u001b[0m in \u001b[0;36m<lambda>\u001b[0;34m(f)\u001b[0m\n\u001b[1;32m    258\u001b[0m         \u001b[0;34m>>\u001b[0m\u001b[0;34m>\u001b[0m \u001b[0mtorch\u001b[0m\u001b[0;34m.\u001b[0m\u001b[0msave\u001b[0m\u001b[0;34m(\u001b[0m\u001b[0mx\u001b[0m\u001b[0;34m,\u001b[0m \u001b[0mbuffer\u001b[0m\u001b[0;34m)\u001b[0m\u001b[0;34m\u001b[0m\u001b[0;34m\u001b[0m\u001b[0m\n\u001b[1;32m    259\u001b[0m     \"\"\"\n\u001b[0;32m--> 260\u001b[0;31m     \u001b[0;32mreturn\u001b[0m \u001b[0m_with_file_like\u001b[0m\u001b[0;34m(\u001b[0m\u001b[0mf\u001b[0m\u001b[0;34m,\u001b[0m \u001b[0;34m\"wb\"\u001b[0m\u001b[0;34m,\u001b[0m \u001b[0;32mlambda\u001b[0m \u001b[0mf\u001b[0m\u001b[0;34m:\u001b[0m \u001b[0m_save\u001b[0m\u001b[0;34m(\u001b[0m\u001b[0mobj\u001b[0m\u001b[0;34m,\u001b[0m \u001b[0mf\u001b[0m\u001b[0;34m,\u001b[0m \u001b[0mpickle_module\u001b[0m\u001b[0;34m,\u001b[0m \u001b[0mpickle_protocol\u001b[0m\u001b[0;34m)\u001b[0m\u001b[0;34m)\u001b[0m\u001b[0;34m\u001b[0m\u001b[0;34m\u001b[0m\u001b[0m\n\u001b[0m\u001b[1;32m    261\u001b[0m \u001b[0;34m\u001b[0m\u001b[0m\n\u001b[1;32m    262\u001b[0m \u001b[0;34m\u001b[0m\u001b[0m\n",
      "\u001b[0;32m~/anaconda3/lib/python3.7/site-packages/torch/serialization.py\u001b[0m in \u001b[0;36m_save\u001b[0;34m(obj, f, pickle_module, pickle_protocol)\u001b[0m\n\u001b[1;32m    336\u001b[0m     \u001b[0mf\u001b[0m\u001b[0;34m.\u001b[0m\u001b[0mflush\u001b[0m\u001b[0;34m(\u001b[0m\u001b[0;34m)\u001b[0m\u001b[0;34m\u001b[0m\u001b[0;34m\u001b[0m\u001b[0m\n\u001b[1;32m    337\u001b[0m     \u001b[0;32mfor\u001b[0m \u001b[0mkey\u001b[0m \u001b[0;32min\u001b[0m \u001b[0mserialized_storage_keys\u001b[0m\u001b[0;34m:\u001b[0m\u001b[0;34m\u001b[0m\u001b[0;34m\u001b[0m\u001b[0m\n\u001b[0;32m--> 338\u001b[0;31m         \u001b[0mserialized_storages\u001b[0m\u001b[0;34m[\u001b[0m\u001b[0mkey\u001b[0m\u001b[0;34m]\u001b[0m\u001b[0;34m.\u001b[0m\u001b[0m_write_file\u001b[0m\u001b[0;34m(\u001b[0m\u001b[0mf\u001b[0m\u001b[0;34m,\u001b[0m \u001b[0m_should_read_directly\u001b[0m\u001b[0;34m(\u001b[0m\u001b[0mf\u001b[0m\u001b[0;34m)\u001b[0m\u001b[0;34m)\u001b[0m\u001b[0;34m\u001b[0m\u001b[0;34m\u001b[0m\u001b[0m\n\u001b[0m\u001b[1;32m    339\u001b[0m \u001b[0;34m\u001b[0m\u001b[0m\n\u001b[1;32m    340\u001b[0m \u001b[0;34m\u001b[0m\u001b[0m\n",
      "\u001b[0;31mRuntimeError\u001b[0m: cuda runtime error (719) : unspecified launch failure at /opt/conda/conda-bld/pytorch_1573049306803/work/torch/csrc/generic/serialization.cpp:23"
     ]
    }
   ],
   "source": [
    "# change the name, for saving multiple files\n",
    "model_name = 'rnn_x_epoch.net'\n",
    "\n",
    "checkpoint = {'n_hidden': net.n_hidden,\n",
    "              'n_layers': net.n_layers,\n",
    "              'state_dict': net.state_dict(),\n",
    "              'tokens': net.chars}\n",
    "\n",
    "with open(model_name, 'wb') as f:\n",
    "    torch.save(checkpoint, f)"
   ]
  },
  {
   "cell_type": "markdown",
   "metadata": {},
   "source": [
    "---\n",
    "## Making Predictions\n",
    "\n",
    "Now that the model is trained, we'll want to sample from it and make predictions about next characters! To sample, we pass in a character and have the network predict the next character. Then we take that character, pass it back in, and get another predicted character. Just keep doing this and you'll generate a bunch of text!\n",
    "\n",
    "### A note on the `predict`  function\n",
    "\n",
    "The output of our RNN is from a fully-connected layer and it outputs a **distribution of next-character scores**.\n",
    "\n",
    "> To actually get the next character, we apply a softmax function, which gives us a *probability* distribution that we can then sample to predict the next character.\n",
    "\n",
    "### Top K sampling\n",
    "\n",
    "Our predictions come from a categorical probability distribution over all the possible characters. We can make the sample text and make it more reasonable to handle (with less variables) by only considering some $K$ most probable characters. This will prevent the network from giving us completely absurd characters while allowing it to introduce some noise and randomness into the sampled text. Read more about [topk, here](https://pytorch.org/docs/stable/torch.html#torch.topk).\n"
   ]
  },
  {
   "cell_type": "code",
   "execution_count": null,
   "metadata": {},
   "outputs": [],
   "source": [
    "def predict(net, char, h=None, top_k=None):\n",
    "        ''' Given a character, predict the next character.\n",
    "            Returns the predicted character and the hidden state.\n",
    "        '''\n",
    "        \n",
    "        # tensor inputs\n",
    "        x = np.array([[net.char2int[char]]])\n",
    "        x = one_hot_encode(x, len(net.chars))\n",
    "        inputs = torch.from_numpy(x)\n",
    "        \n",
    "        if(train_on_gpu):\n",
    "            inputs = inputs.cuda()\n",
    "        \n",
    "        # detach hidden state from history\n",
    "        h = tuple([each.data for each in h])\n",
    "        # get the output of the model\n",
    "        out, h = net(inputs, h)\n",
    "\n",
    "        # get the character probabilities\n",
    "        p = F.softmax(out, dim=1).data\n",
    "        if(train_on_gpu):\n",
    "            p = p.cpu() # move to cpu\n",
    "        \n",
    "        # get top characters\n",
    "        if top_k is None:\n",
    "            top_ch = np.arange(len(net.chars))\n",
    "        else:\n",
    "            p, top_ch = p.topk(top_k)\n",
    "            top_ch = top_ch.numpy().squeeze()\n",
    "        \n",
    "        # select the likely next character with some element of randomness\n",
    "        p = p.numpy().squeeze()\n",
    "        char = np.random.choice(top_ch, p=p/p.sum())\n",
    "        \n",
    "        # return the encoded value of the predicted char and the hidden state\n",
    "        return net.int2char[char], h"
   ]
  },
  {
   "cell_type": "markdown",
   "metadata": {},
   "source": [
    "### Priming and generating text \n",
    "\n",
    "Typically you'll want to prime the network so you can build up a hidden state. Otherwise the network will start out generating characters at random. In general the first bunch of characters will be a little rough since it hasn't built up a long history of characters to predict from."
   ]
  },
  {
   "cell_type": "code",
   "execution_count": null,
   "metadata": {},
   "outputs": [],
   "source": [
    "def sample(net, size, prime='The', top_k=None):\n",
    "        \n",
    "    if(train_on_gpu):\n",
    "        net.cuda()\n",
    "    else:\n",
    "        net.cpu()\n",
    "    \n",
    "    net.eval() # eval mode\n",
    "    \n",
    "    # First off, run through the prime characters\n",
    "    chars = [ch for ch in prime]\n",
    "    h = net.init_hidden(1)\n",
    "    for ch in prime:\n",
    "        char, h = predict(net, ch, h, top_k=top_k)\n",
    "\n",
    "    chars.append(char)\n",
    "    \n",
    "    # Now pass in the previous character and get a new one\n",
    "    for ii in range(size):\n",
    "        char, h = predict(net, chars[-1], h, top_k=top_k)\n",
    "        chars.append(char)\n",
    "\n",
    "    return ''.join(chars)"
   ]
  },
  {
   "cell_type": "code",
   "execution_count": null,
   "metadata": {},
   "outputs": [],
   "source": [
    "print(sample(net, 1000, prime='Anna', top_k=5))"
   ]
  },
  {
   "cell_type": "markdown",
   "metadata": {},
   "source": [
    "## Loading a checkpoint"
   ]
  },
  {
   "cell_type": "code",
   "execution_count": null,
   "metadata": {},
   "outputs": [],
   "source": [
    "# Here we have loaded in a model that trained over 20 epochs `rnn_20_epoch.net`\n",
    "with open('rnn_x_epoch.net', 'rb') as f:\n",
    "    checkpoint = torch.load(f)\n",
    "    \n",
    "loaded = CharRNN(checkpoint['tokens'], n_hidden=checkpoint['n_hidden'], n_layers=checkpoint['n_layers'])\n",
    "loaded.load_state_dict(checkpoint['state_dict'])"
   ]
  },
  {
   "cell_type": "code",
   "execution_count": null,
   "metadata": {},
   "outputs": [],
   "source": [
    "# Sample using a loaded model\n",
    "print(sample(loaded, 2000, top_k=5, prime=\"And Levin said\"))"
   ]
  },
  {
   "cell_type": "code",
   "execution_count": null,
   "metadata": {},
   "outputs": [],
   "source": []
  },
  {
   "cell_type": "code",
   "execution_count": null,
   "metadata": {},
   "outputs": [],
   "source": []
  }
 ],
 "metadata": {
  "kernelspec": {
   "display_name": "Python 3",
   "language": "python",
   "name": "python3"
  },
  "language_info": {
   "codemirror_mode": {
    "name": "ipython",
    "version": 3
   },
   "file_extension": ".py",
   "mimetype": "text/x-python",
   "name": "python",
   "nbconvert_exporter": "python",
   "pygments_lexer": "ipython3",
   "version": "3.7.3"
  }
 },
 "nbformat": 4,
 "nbformat_minor": 2
}
